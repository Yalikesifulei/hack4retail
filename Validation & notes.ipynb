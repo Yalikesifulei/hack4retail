{
 "cells": [
  {
   "cell_type": "code",
   "execution_count": 4,
   "id": "0ba7b35b",
   "metadata": {
    "ExecuteTime": {
     "end_time": "2021-11-15T08:51:24.582614Z",
     "start_time": "2021-11-15T08:51:24.575769Z"
    }
   },
   "outputs": [],
   "source": [
    "from tqdm.notebook import tqdm as tn\n",
    "from tqdm import tqdm\n",
    "import random\n",
    "import warnings\n",
    "warnings.filterwarnings(\"ignore\", category=DeprecationWarning) \n",
    "seed = 47\n",
    "tqdm.pandas()\n",
    "random.seed(seed)"
   ]
  },
  {
   "cell_type": "code",
   "execution_count": 5,
   "id": "58befb1e",
   "metadata": {
    "ExecuteTime": {
     "end_time": "2021-11-15T08:51:24.766416Z",
     "start_time": "2021-11-15T08:51:24.739425Z"
    }
   },
   "outputs": [],
   "source": [
    "cheques = pd.read_csv('data/cheques_public.csv', sep=';')\n",
    "distances = np.array(pd.read_csv('data/darkstore.csv'))\n",
    "darkstore_map = pd.read_csv('data/darkstore_map.csv', sep=';')\n",
    "submit_map = pd.read_csv('baseline_submit.csv')\n",
    "darkstore_map_genetic = pd.read_csv('data/sub_genetic_new_2.csv')\n",
    "optuna_map = pd.read_csv('data/optuna_6_features.csv')\n",
    "genetic_optuna_map = pd.read_csv('data/sub_genetic_optuna.csv')\n",
    "sub_genetic_new_map = pd.read_csv('data/sub_genetic_new_3.csv')\n",
    "optuna_clusters_map = pd.read_csv('data/optuna_clusters_features.csv')\n",
    "new_map = pd.read_csv('data/sub_final.csv')"
   ]
  },
  {
   "cell_type": "code",
   "execution_count": 6,
   "id": "1dda6919",
   "metadata": {
    "ExecuteTime": {
     "end_time": "2021-11-15T08:51:24.936899Z",
     "start_time": "2021-11-15T08:51:24.932410Z"
    }
   },
   "outputs": [],
   "source": [
    "picking_time_speed = {1: 1, 2: 2, 3: 3}"
   ]
  },
  {
   "cell_type": "code",
   "execution_count": null,
   "id": "5f871537",
   "metadata": {
    "ExecuteTime": {
     "end_time": "2021-11-13T19:19:14.284651Z",
     "start_time": "2021-11-13T19:19:13.855560Z"
    }
   },
   "outputs": [],
   "source": []
  },
  {
   "cell_type": "code",
   "execution_count": 7,
   "id": "c664e955",
   "metadata": {
    "ExecuteTime": {
     "end_time": "2021-11-15T08:51:31.080539Z",
     "start_time": "2021-11-15T08:51:31.074892Z"
    }
   },
   "outputs": [],
   "source": [
    "def validator(cheques, distances):\n",
    "    \n",
    "    all_times = []\n",
    "    for i, temp_cheque in cheques.groupby('CHEQUEID'):\n",
    "\n",
    "        sum_time = 0\n",
    "        current_location = 0\n",
    "        #print('CHEQUE', cheque)\n",
    "        #temp_cheque = cheques[cheques['CHEQUEID']==cheque]\n",
    "        sum_time += (temp_cheque['KOLVO'] * temp_cheque['LEVEL'].map(picking_time_speed)).sum()\n",
    "        \n",
    "        est_locatsii = True\n",
    "        set_locations = set(temp_cheque['SECTION'])\n",
    "        while est_locatsii:\n",
    "            dists = sorted([(x, distances[current_location, x]) for x in set_locations], key=lambda x: x[1], reverse=False)\n",
    "            current_location = dists[0][0]\n",
    "            travel_time = dists[0][1] * 2\n",
    "            sum_time += travel_time\n",
    "\n",
    "            set_locations.remove(current_location)\n",
    "            if not len(set_locations):\n",
    "                est_locatsii = False\n",
    "\n",
    "        dist_to_final = distances[0, current_location]\n",
    "        sum_time += dist_to_final * 2\n",
    "        \n",
    "        all_times.append(sum_time)\n",
    "        \n",
    "    return np.mean(all_times), all_times"
   ]
  },
  {
   "cell_type": "markdown",
   "id": "1f93f633",
   "metadata": {},
   "source": [
    "# Validation"
   ]
  },
  {
   "cell_type": "code",
   "execution_count": 8,
   "id": "2d82e3b8",
   "metadata": {
    "ExecuteTime": {
     "end_time": "2021-11-15T08:51:48.778961Z",
     "start_time": "2021-11-15T08:51:34.443508Z"
    },
    "scrolled": false
   },
   "outputs": [
    {
     "name": "stderr",
     "output_type": "stream",
     "text": [
      "/opt/conda/lib/python3.9/site-packages/sklearn/model_selection/_split.py:102: DeprecationWarning:\n",
      "\n",
      "`np.bool` is a deprecated alias for the builtin `bool`. To silence this warning, use `bool` by itself. Doing this will not modify any behavior and is safe. If you specifically wanted the numpy scalar type, use `np.bool_` here.\n",
      "Deprecated in NumPy 1.20; for more details and guidance: https://numpy.org/devdocs/release/1.20.0-notes.html#deprecations\n",
      "\n",
      "/opt/conda/lib/python3.9/site-packages/pandas/core/frame.py:3607: SettingWithCopyWarning:\n",
      "\n",
      "\n",
      "A value is trying to be set on a copy of a slice from a DataFrame.\n",
      "Try using .loc[row_indexer,col_indexer] = value instead\n",
      "\n",
      "See the caveats in the documentation: https://pandas.pydata.org/pandas-docs/stable/user_guide/indexing.html#returning-a-view-versus-a-copy\n",
      "\n"
     ]
    },
    {
     "name": "stdout",
     "output_type": "stream",
     "text": [
      "0 Fold. train_mean: 64.80721339630743, valid_mean: 65.03092783505154\n"
     ]
    },
    {
     "name": "stderr",
     "output_type": "stream",
     "text": [
      "/opt/conda/lib/python3.9/site-packages/sklearn/model_selection/_split.py:102: DeprecationWarning:\n",
      "\n",
      "`np.bool` is a deprecated alias for the builtin `bool`. To silence this warning, use `bool` by itself. Doing this will not modify any behavior and is safe. If you specifically wanted the numpy scalar type, use `np.bool_` here.\n",
      "Deprecated in NumPy 1.20; for more details and guidance: https://numpy.org/devdocs/release/1.20.0-notes.html#deprecations\n",
      "\n"
     ]
    },
    {
     "name": "stdout",
     "output_type": "stream",
     "text": [
      "1 Fold. train_mean: 64.8529411764706, valid_mean: 64.8479381443299\n"
     ]
    },
    {
     "name": "stderr",
     "output_type": "stream",
     "text": [
      "/opt/conda/lib/python3.9/site-packages/sklearn/model_selection/_split.py:102: DeprecationWarning:\n",
      "\n",
      "`np.bool` is a deprecated alias for the builtin `bool`. To silence this warning, use `bool` by itself. Doing this will not modify any behavior and is safe. If you specifically wanted the numpy scalar type, use `np.bool_` here.\n",
      "Deprecated in NumPy 1.20; for more details and guidance: https://numpy.org/devdocs/release/1.20.0-notes.html#deprecations\n",
      "\n"
     ]
    },
    {
     "name": "stdout",
     "output_type": "stream",
     "text": [
      "2 Fold. train_mean: 64.8492915414341, valid_mean: 64.86254295532646\n"
     ]
    },
    {
     "name": "stderr",
     "output_type": "stream",
     "text": [
      "/opt/conda/lib/python3.9/site-packages/sklearn/model_selection/_split.py:102: DeprecationWarning:\n",
      "\n",
      "`np.bool` is a deprecated alias for the builtin `bool`. To silence this warning, use `bool` by itself. Doing this will not modify any behavior and is safe. If you specifically wanted the numpy scalar type, use `np.bool_` here.\n",
      "Deprecated in NumPy 1.20; for more details and guidance: https://numpy.org/devdocs/release/1.20.0-notes.html#deprecations\n",
      "\n"
     ]
    },
    {
     "name": "stdout",
     "output_type": "stream",
     "text": [
      "3 Fold. train_mean: 64.81640541120893, valid_mean: 64.99399141630902\n"
     ]
    },
    {
     "name": "stderr",
     "output_type": "stream",
     "text": [
      "/opt/conda/lib/python3.9/site-packages/sklearn/model_selection/_split.py:102: DeprecationWarning:\n",
      "\n",
      "`np.bool` is a deprecated alias for the builtin `bool`. To silence this warning, use `bool` by itself. Doing this will not modify any behavior and is safe. If you specifically wanted the numpy scalar type, use `np.bool_` here.\n",
      "Deprecated in NumPy 1.20; for more details and guidance: https://numpy.org/devdocs/release/1.20.0-notes.html#deprecations\n",
      "\n"
     ]
    },
    {
     "name": "stdout",
     "output_type": "stream",
     "text": [
      "4 Fold. train_mean: 64.93386300193258, valid_mean: 64.5244635193133\n",
      "AVG 64.85197277406604\n"
     ]
    }
   ],
   "source": [
    "from sklearn.model_selection import KFold, GroupKFold\n",
    "\n",
    "kfold = KFold(n_splits=5, random_state=seed, shuffle=False)\n",
    "group_kfold = GroupKFold(n_splits=5)\n",
    "res = []\n",
    "for i, (tdx, vdx) in enumerate(group_kfold.split(cheques, cheques['KOLVO'], cheques['CHEQUEID'])):\n",
    "    train_cheques = cheques.iloc[tdx]\n",
    "    valid_cheques = cheques.iloc[vdx]\n",
    "    \n",
    "    darkstore_map_fold = new_map.copy()\n",
    "    darkstore_map_dict = darkstore_map_fold.set_index(['SECTION', 'LEVEL']).to_dict('index')\n",
    "    darkstore_map_dict_inverse = dict()\n",
    "    for k, v in darkstore_map_dict.items():\n",
    "        darkstore_map_dict[k] = v['LAGERID']\n",
    "        darkstore_map_dict_inverse[v['LAGERID']] = k\n",
    "    \n",
    "    \n",
    "    train_cheques['LOCATION'] = train_cheques['LAGERID'].apply(lambda x: darkstore_map_dict_inverse[x])\n",
    "    train_cheques[['SECTION', 'LEVEL']] = pd.DataFrame(train_cheques['LOCATION'].tolist(), index=train_cheques.index)\n",
    "    valid_cheques['LOCATION'] = valid_cheques['LAGERID'].apply(lambda x: darkstore_map_dict_inverse[x])\n",
    "    valid_cheques[['SECTION', 'LEVEL']] = pd.DataFrame(valid_cheques['LOCATION'].tolist(), index=valid_cheques.index)\n",
    "    #folds[f'{i+1}_fold_optuna_map'] = darkstore_map_fold['LAGERID']\n",
    "    train_mean, _ = validator(train_cheques, distances)\n",
    "    valid_mean, _ = validator(valid_cheques, distances)\n",
    "    print(f'{i} Fold. train_mean: {train_mean}, valid_mean: {valid_mean}')\n",
    "    res.append(valid_mean)\n",
    "print('AVG', np.mean(res))"
   ]
  },
  {
   "cell_type": "code",
   "execution_count": null,
   "id": "8e7b3c85",
   "metadata": {
    "ExecuteTime": {
     "end_time": "2021-11-14T12:31:26.539199Z",
     "start_time": "2021-11-14T12:31:26.534493Z"
    }
   },
   "outputs": [],
   "source": [
    "# бейслайн популярности товаров\n",
    "# 0 Fold. train_mean: 67.7400171747531, valid_mean: 67.76632302405498\n",
    "# 1 Fold. train_mean: 67.65671962215544, valid_mean: 68.26546391752578\n",
    "# 2 Fold. train_mean: 67.69042507513954, valid_mean: 68.15979381443299\n",
    "# 3 Fold. train_mean: 68.06549280652781, valid_mean: 68.34334763948497\n",
    "# 4 Fold. train_mean: 68.0360747262186, valid_mean: 67.84377682403434\n",
    "# AVG 68.07574104390662\n",
    "# на всем треине 67.71453108897286, 394234.0\n",
    "\n",
    "# new_genetic\n",
    "# 0 Fold. train_mean: 67.33984542722199, valid_mean: 66.92096219931271\n",
    "# 1 Fold. train_mean: 67.21124946328896, valid_mean: 67.43556701030928\n",
    "# 2 Fold. train_mean: 67.21404036066981, valid_mean: 67.42439862542955\n",
    "# 3 Fold. train_mean: 67.19261327034572, valid_mean: 67.50987124463519\n",
    "# 4 Fold. train_mean: 67.3227399613485, valid_mean: 66.98969957081545\n",
    "# AVG 67.25609973010043\n",
    "\n",
    "# new_genetic_v2\n",
    "# 0 Fold. train_mean: 66.83039931300988, valid_mean: 66.57903780068729\n",
    "# 1 Fold. train_mean: 66.70502361528553, valid_mean: 67.0807560137457\n",
    "# 2 Fold. train_mean: 66.75976814083297, valid_mean: 66.86168384879726\n",
    "# 3 Fold. train_mean: 66.72063560231909, valid_mean: 67.01802575107295\n",
    "# 4 Fold. train_mean: 66.88490444492162, valid_mean: 66.36137339055794\n",
    "# AVG 66.78017536097224\n",
    "\n",
    "# optuna\n",
    "# 0 Fold. train_mean: 65.22069557750108, valid_mean: 65.51030927835052\n",
    "# 1 Fold. train_mean: 65.28016316015457, valid_mean: 65.27233676975945\n",
    "# 2 Fold. train_mean: 65.26792614856161, valid_mean: 65.3213058419244\n",
    "# 3 Fold. train_mean: 65.27678763152244, valid_mean: 65.28583690987125\n",
    "# 4 Fold. train_mean: 65.34743397036719, valid_mean: 65.00343347639485\n",
    "# AVG 65.27864445526009\n",
    "# на всем треине 65.278, 380052.0\n",
    "\n",
    "# дообучение вектора с оптуны генетическими алгоритами\n",
    "# 0 Fold. train_mean: 64.95148132245599, valid_mean: 65.01202749140893\n",
    "# 1 Fold. train_mean: 64.9776728209532, valid_mean: 64.90721649484536\n",
    "# 2 Fold. train_mean: 64.95706311721769, valid_mean: 64.98969072164948\n",
    "# 3 Fold. train_mean: 64.9418080309212, valid_mean: 65.05064377682403\n",
    "# 4 Fold. train_mean: 64.98990766587931, valid_mean: 64.85836909871244\n",
    "# AVG 64.96358951668805\n",
    "# на всем треине 64.9635, 378218.0"
   ]
  },
  {
   "cell_type": "markdown",
   "id": "7a146ecb",
   "metadata": {},
   "source": [
    "# Big subsamples validation"
   ]
  },
  {
   "cell_type": "code",
   "execution_count": 9,
   "id": "5d1e78a0",
   "metadata": {
    "ExecuteTime": {
     "end_time": "2021-11-15T08:52:11.988339Z",
     "start_time": "2021-11-15T08:52:00.451156Z"
    }
   },
   "outputs": [
    {
     "data": {
      "application/vnd.jupyter.widget-view+json": {
       "model_id": "e4b7b40cf8ff4ff2a8609d13e23d97b7",
       "version_major": 2,
       "version_minor": 0
      },
      "text/plain": [
       "  0%|          | 0/10 [00:00<?, ?it/s]"
      ]
     },
     "metadata": {},
     "output_type": "display_data"
    }
   ],
   "source": [
    "from sklearn.model_selection import KFold, GroupKFold\n",
    "\n",
    "num_cheques = cheques['CHEQUEID'].nunique()\n",
    "global_results = []\n",
    "for temp_seed in tn(range(10)):\n",
    "    subsample = random.sample(list(cheques['CHEQUEID'].unique()), int(num_cheques * 0.1))\n",
    "    valid_cheques = cheques[cheques['CHEQUEID'].isin(subsample)]\n",
    "    d = dict()\n",
    "    for name, ds_map in [('optuna_map', optuna_map),\n",
    "                  ('genetic_optuna_map', genetic_optuna_map),\n",
    "                  ('sub_genetic_new_map', sub_genetic_new_map),\n",
    "                        ('new_map', new_map)]:\n",
    "\n",
    "        darkstore_map_dict = ds_map.set_index(['SECTION', 'LEVEL']).to_dict('index')\n",
    "        darkstore_map_dict_inverse = dict()\n",
    "        for k, v in darkstore_map_dict.items():\n",
    "            darkstore_map_dict[k] = v['LAGERID']\n",
    "            darkstore_map_dict_inverse[v['LAGERID']] = k\n",
    "\n",
    "        valid_cheques['LOCATION'] = valid_cheques['LAGERID'].apply(lambda x: darkstore_map_dict_inverse[x])\n",
    "        valid_cheques[['SECTION', 'LEVEL']] = pd.DataFrame(valid_cheques['LOCATION'].tolist(), index=valid_cheques.index)\n",
    "        valid_mean, _ = validator(valid_cheques, distances)\n",
    "        d[name] = valid_mean\n",
    "    global_results.append(d)"
   ]
  },
  {
   "cell_type": "code",
   "execution_count": 10,
   "id": "862f9061",
   "metadata": {
    "ExecuteTime": {
     "end_time": "2021-11-15T08:52:11.992951Z",
     "start_time": "2021-11-15T08:52:11.989905Z"
    }
   },
   "outputs": [],
   "source": [
    "def highlight_last_max(data, colormax='antiquewhite', colormaxlast='lightgreen'):\n",
    "    colormax_attr = f'background-color: {colormax}'\n",
    "    colormaxlast_attr = f'background-color: {colormaxlast}'\n",
    "    max_value = data.min()\n",
    "    is_max = [colormax_attr if v == max_value else '' for v in data]\n",
    "    is_max[len(data) - list(reversed(data)).index(max_value) -  1] = colormaxlast_attr\n",
    "    return is_max\n",
    "\n"
   ]
  },
  {
   "cell_type": "code",
   "execution_count": 11,
   "id": "6d829c46",
   "metadata": {
    "ExecuteTime": {
     "end_time": "2021-11-15T08:52:12.033167Z",
     "start_time": "2021-11-15T08:52:11.994109Z"
    }
   },
   "outputs": [
    {
     "data": {
      "text/html": [
       "<style type=\"text/css\">\n",
       "#T_75b6b_row0_col3, #T_75b6b_row1_col3, #T_75b6b_row2_col3, #T_75b6b_row3_col2, #T_75b6b_row4_col2, #T_75b6b_row5_col2, #T_75b6b_row6_col3, #T_75b6b_row7_col3, #T_75b6b_row8_col2, #T_75b6b_row9_col3 {\n",
       "  background-color: lightgreen;\n",
       "}\n",
       "</style>\n",
       "<table id=\"T_75b6b_\">\n",
       "  <thead>\n",
       "    <tr>\n",
       "      <th class=\"blank level0\" >&nbsp;</th>\n",
       "      <th class=\"col_heading level0 col0\" >optuna_map</th>\n",
       "      <th class=\"col_heading level0 col1\" >genetic_optuna_map</th>\n",
       "      <th class=\"col_heading level0 col2\" >sub_genetic_new_map</th>\n",
       "      <th class=\"col_heading level0 col3\" >new_map</th>\n",
       "    </tr>\n",
       "  </thead>\n",
       "  <tbody>\n",
       "    <tr>\n",
       "      <th id=\"T_75b6b_level0_row0\" class=\"row_heading level0 row0\" >0</th>\n",
       "      <td id=\"T_75b6b_row0_col0\" class=\"data row0 col0\" >64.520619</td>\n",
       "      <td id=\"T_75b6b_row0_col1\" class=\"data row0 col1\" >66.920962</td>\n",
       "      <td id=\"T_75b6b_row0_col2\" class=\"data row0 col2\" >64.180412</td>\n",
       "      <td id=\"T_75b6b_row0_col3\" class=\"data row0 col3\" >63.900344</td>\n",
       "    </tr>\n",
       "    <tr>\n",
       "      <th id=\"T_75b6b_level0_row1\" class=\"row_heading level0 row1\" >1</th>\n",
       "      <td id=\"T_75b6b_row1_col0\" class=\"data row1 col0\" >65.128866</td>\n",
       "      <td id=\"T_75b6b_row1_col1\" class=\"data row1 col1\" >67.390034</td>\n",
       "      <td id=\"T_75b6b_row1_col2\" class=\"data row1 col2\" >64.781787</td>\n",
       "      <td id=\"T_75b6b_row1_col3\" class=\"data row1 col3\" >64.709622</td>\n",
       "    </tr>\n",
       "    <tr>\n",
       "      <th id=\"T_75b6b_level0_row2\" class=\"row_heading level0 row2\" >2</th>\n",
       "      <td id=\"T_75b6b_row2_col0\" class=\"data row2 col0\" >65.446735</td>\n",
       "      <td id=\"T_75b6b_row2_col1\" class=\"data row2 col1\" >67.524055</td>\n",
       "      <td id=\"T_75b6b_row2_col2\" class=\"data row2 col2\" >65.216495</td>\n",
       "      <td id=\"T_75b6b_row2_col3\" class=\"data row2 col3\" >64.718213</td>\n",
       "    </tr>\n",
       "    <tr>\n",
       "      <th id=\"T_75b6b_level0_row3\" class=\"row_heading level0 row3\" >3</th>\n",
       "      <td id=\"T_75b6b_row3_col0\" class=\"data row3 col0\" >65.432990</td>\n",
       "      <td id=\"T_75b6b_row3_col1\" class=\"data row3 col1\" >67.938144</td>\n",
       "      <td id=\"T_75b6b_row3_col2\" class=\"data row3 col2\" >65.101375</td>\n",
       "      <td id=\"T_75b6b_row3_col3\" class=\"data row3 col3\" >65.111684</td>\n",
       "    </tr>\n",
       "    <tr>\n",
       "      <th id=\"T_75b6b_level0_row4\" class=\"row_heading level0 row4\" >4</th>\n",
       "      <td id=\"T_75b6b_row4_col0\" class=\"data row4 col0\" >65.077320</td>\n",
       "      <td id=\"T_75b6b_row4_col1\" class=\"data row4 col1\" >67.429553</td>\n",
       "      <td id=\"T_75b6b_row4_col2\" class=\"data row4 col2\" >64.910653</td>\n",
       "      <td id=\"T_75b6b_row4_col3\" class=\"data row4 col3\" >64.922680</td>\n",
       "    </tr>\n",
       "    <tr>\n",
       "      <th id=\"T_75b6b_level0_row5\" class=\"row_heading level0 row5\" >5</th>\n",
       "      <td id=\"T_75b6b_row5_col0\" class=\"data row5 col0\" >65.314433</td>\n",
       "      <td id=\"T_75b6b_row5_col1\" class=\"data row5 col1\" >68.067010</td>\n",
       "      <td id=\"T_75b6b_row5_col2\" class=\"data row5 col2\" >64.814433</td>\n",
       "      <td id=\"T_75b6b_row5_col3\" class=\"data row5 col3\" >64.891753</td>\n",
       "    </tr>\n",
       "    <tr>\n",
       "      <th id=\"T_75b6b_level0_row6\" class=\"row_heading level0 row6\" >6</th>\n",
       "      <td id=\"T_75b6b_row6_col0\" class=\"data row6 col0\" >64.656357</td>\n",
       "      <td id=\"T_75b6b_row6_col1\" class=\"data row6 col1\" >66.572165</td>\n",
       "      <td id=\"T_75b6b_row6_col2\" class=\"data row6 col2\" >64.599656</td>\n",
       "      <td id=\"T_75b6b_row6_col3\" class=\"data row6 col3\" >63.908935</td>\n",
       "    </tr>\n",
       "    <tr>\n",
       "      <th id=\"T_75b6b_level0_row7\" class=\"row_heading level0 row7\" >7</th>\n",
       "      <td id=\"T_75b6b_row7_col0\" class=\"data row7 col0\" >64.142612</td>\n",
       "      <td id=\"T_75b6b_row7_col1\" class=\"data row7 col1\" >66.496564</td>\n",
       "      <td id=\"T_75b6b_row7_col2\" class=\"data row7 col2\" >63.841924</td>\n",
       "      <td id=\"T_75b6b_row7_col3\" class=\"data row7 col3\" >63.352234</td>\n",
       "    </tr>\n",
       "    <tr>\n",
       "      <th id=\"T_75b6b_level0_row8\" class=\"row_heading level0 row8\" >8</th>\n",
       "      <td id=\"T_75b6b_row8_col0\" class=\"data row8 col0\" >65.352234</td>\n",
       "      <td id=\"T_75b6b_row8_col1\" class=\"data row8 col1\" >66.934708</td>\n",
       "      <td id=\"T_75b6b_row8_col2\" class=\"data row8 col2\" >64.917526</td>\n",
       "      <td id=\"T_75b6b_row8_col3\" class=\"data row8 col3\" >65.054983</td>\n",
       "    </tr>\n",
       "    <tr>\n",
       "      <th id=\"T_75b6b_level0_row9\" class=\"row_heading level0 row9\" >9</th>\n",
       "      <td id=\"T_75b6b_row9_col0\" class=\"data row9 col0\" >65.852234</td>\n",
       "      <td id=\"T_75b6b_row9_col1\" class=\"data row9 col1\" >67.821306</td>\n",
       "      <td id=\"T_75b6b_row9_col2\" class=\"data row9 col2\" >65.778351</td>\n",
       "      <td id=\"T_75b6b_row9_col3\" class=\"data row9 col3\" >65.049828</td>\n",
       "    </tr>\n",
       "  </tbody>\n",
       "</table>\n"
      ],
      "text/plain": [
       "<pandas.io.formats.style.Styler at 0x7f1df572e730>"
      ]
     },
     "execution_count": 11,
     "metadata": {},
     "output_type": "execute_result"
    }
   ],
   "source": [
    "res = pd.DataFrame(global_results)\n",
    "res.style.apply(highlight_last_max,axis=1)"
   ]
  },
  {
   "cell_type": "markdown",
   "id": "2c1e9ceb",
   "metadata": {},
   "source": [
    "# Full predict"
   ]
  },
  {
   "cell_type": "code",
   "execution_count": 12,
   "id": "1b85ba5f",
   "metadata": {
    "ExecuteTime": {
     "end_time": "2021-11-15T08:52:50.707761Z",
     "start_time": "2021-11-15T08:52:50.698888Z"
    }
   },
   "outputs": [],
   "source": [
    "darkstore_map_dict = new_map.set_index(['SECTION', 'LEVEL']).to_dict('index')\n",
    "darkstore_map_dict_inverse = dict()\n",
    "for k, v in darkstore_map_dict.items():\n",
    "    darkstore_map_dict[k] = v['LAGERID']\n",
    "    darkstore_map_dict_inverse[v['LAGERID']] = k"
   ]
  },
  {
   "cell_type": "code",
   "execution_count": 13,
   "id": "fbbd0e8d",
   "metadata": {
    "ExecuteTime": {
     "end_time": "2021-11-15T08:52:50.917572Z",
     "start_time": "2021-11-15T08:52:50.895997Z"
    }
   },
   "outputs": [],
   "source": [
    "cheques['LOCATION'] = cheques['LAGERID'].apply(lambda x: darkstore_map_dict_inverse[x])\n",
    "cheques[['SECTION', 'LEVEL']] = pd.DataFrame(cheques['LOCATION'].tolist(), index=cheques.index)"
   ]
  },
  {
   "cell_type": "code",
   "execution_count": 14,
   "id": "32ebf75e",
   "metadata": {
    "ExecuteTime": {
     "end_time": "2021-11-15T08:52:54.031563Z",
     "start_time": "2021-11-15T08:52:51.140955Z"
    }
   },
   "outputs": [
    {
     "data": {
      "text/plain": [
       "64.85194091377534"
      ]
     },
     "execution_count": 14,
     "metadata": {},
     "output_type": "execute_result"
    }
   ],
   "source": [
    "mean, all_times = validator(cheques, distances)\n",
    "mean"
   ]
  },
  {
   "cell_type": "code",
   "execution_count": 15,
   "id": "d8220b34",
   "metadata": {
    "ExecuteTime": {
     "end_time": "2021-11-15T08:52:54.039818Z",
     "start_time": "2021-11-15T08:52:54.034310Z"
    }
   },
   "outputs": [
    {
     "data": {
      "text/plain": [
       "377568.0"
      ]
     },
     "execution_count": 15,
     "metadata": {},
     "output_type": "execute_result"
    }
   ],
   "source": [
    "sum(all_times)"
   ]
  },
  {
   "cell_type": "markdown",
   "id": "bf962789",
   "metadata": {},
   "source": [
    "# Notes"
   ]
  },
  {
   "cell_type": "code",
   "execution_count": null,
   "id": "f4bc9d00",
   "metadata": {
    "ExecuteTime": {
     "end_time": "2021-11-13T20:34:39.285203Z",
     "start_time": "2021-11-13T20:34:39.281538Z"
    }
   },
   "outputs": [],
   "source": [
    "# !pip install apyori"
   ]
  },
  {
   "cell_type": "code",
   "execution_count": null,
   "id": "8b81960e",
   "metadata": {
    "ExecuteTime": {
     "end_time": "2021-11-13T20:34:39.620470Z",
     "start_time": "2021-11-13T20:34:39.617493Z"
    }
   },
   "outputs": [],
   "source": [
    "# from apriori_python import apriori\n",
    "\n",
    "# freqItemSet, rules = apriori(cheques.groupby('CHEQUEID')['LAGERID'].apply(list).tolist(), minSup=0.03, minConf=0.03)\n",
    "# print(freqItemSet)\n",
    "# print(rules)  "
   ]
  },
  {
   "cell_type": "markdown",
   "id": "f81cc88e",
   "metadata": {},
   "source": [
    "## Word2Vec"
   ]
  },
  {
   "cell_type": "code",
   "execution_count": null,
   "id": "1638a31f",
   "metadata": {
    "ExecuteTime": {
     "end_time": "2021-11-14T08:58:23.943145Z",
     "start_time": "2021-11-14T08:58:23.693205Z"
    }
   },
   "outputs": [],
   "source": [
    "cheques['LAGERID'] = cheques.apply(lambda x: [x['LAGERID']] * int(x['KOLVO']), axis=1)\n",
    "cheques = cheques.explode('LAGERID')\n",
    "cheques['LAGERID'] = cheques['LAGERID'].astype(int)"
   ]
  },
  {
   "cell_type": "code",
   "execution_count": null,
   "id": "5257d355",
   "metadata": {
    "ExecuteTime": {
     "end_time": "2021-11-14T09:20:07.212483Z",
     "start_time": "2021-11-14T09:20:06.447740Z"
    }
   },
   "outputs": [],
   "source": [
    "from gensim.models import Word2Vec\n",
    "\n",
    "cheques2list = cheques.groupby('CHEQUEID')['LAGERID'].apply(list).tolist()\n",
    "model = Word2Vec(sentences=cheques2list, vector_size=16, window=3, min_count=1, workers=10, epochs=25)"
   ]
  },
  {
   "cell_type": "code",
   "execution_count": null,
   "id": "84133144",
   "metadata": {
    "ExecuteTime": {
     "end_time": "2021-11-14T09:20:10.757484Z",
     "start_time": "2021-11-14T09:20:10.752851Z"
    }
   },
   "outputs": [],
   "source": [
    "vectors = [model.wv[i] for i in cheques['LAGERID'].unique()]"
   ]
  },
  {
   "cell_type": "code",
   "execution_count": null,
   "id": "bbbb46a0",
   "metadata": {
    "ExecuteTime": {
     "end_time": "2021-11-14T09:21:23.293617Z",
     "start_time": "2021-11-14T09:21:23.287768Z"
    }
   },
   "outputs": [],
   "source": [
    "model.wv.most_similar(10, topn=10)"
   ]
  },
  {
   "cell_type": "code",
   "execution_count": null,
   "id": "d9a6ba48",
   "metadata": {
    "ExecuteTime": {
     "end_time": "2021-11-14T09:21:49.303335Z",
     "start_time": "2021-11-14T09:21:49.291534Z"
    }
   },
   "outputs": [],
   "source": [
    "from sklearn.cluster import DBSCAN\n",
    "\n",
    "# clustering = DBSCAN(eps=0.03, min_samples=2, metric='cosine').fit(vectors)\n",
    "clustering = DBSCAN(eps=0.3, min_samples=2, metric='cosine').fit(vectors)\n",
    "item_to_cluster = dict()\n",
    "for i, lagerid in enumerate(cheques['LAGERID'].unique()):\n",
    "    item_to_cluster[lagerid] = clustering.labels_[i]\n"
   ]
  },
  {
   "cell_type": "code",
   "execution_count": null,
   "id": "ecfc712e",
   "metadata": {
    "ExecuteTime": {
     "end_time": "2021-11-14T09:21:49.754033Z",
     "start_time": "2021-11-14T09:21:49.747496Z"
    }
   },
   "outputs": [],
   "source": [
    "from collections import Counter\n",
    "Counter(clustering.labels_).most_common()"
   ]
  },
  {
   "cell_type": "code",
   "execution_count": null,
   "id": "43677873",
   "metadata": {
    "ExecuteTime": {
     "end_time": "2021-11-14T09:21:54.494390Z",
     "start_time": "2021-11-14T09:21:54.487200Z"
    }
   },
   "outputs": [],
   "source": [
    "pd.to_pickle(item_to_cluster, 'lager_to_cluster.pkl')"
   ]
  },
  {
   "cell_type": "markdown",
   "id": "e8e00978",
   "metadata": {},
   "source": [
    "## Stack"
   ]
  },
  {
   "cell_type": "code",
   "execution_count": null,
   "id": "5ecb8861",
   "metadata": {
    "ExecuteTime": {
     "end_time": "2021-11-14T06:00:21.326640Z",
     "start_time": "2021-11-14T06:00:21.319657Z"
    }
   },
   "outputs": [],
   "source": [
    "darkstore_map_genetic = pd.read_csv('data/sub_genetic_new_2.csv')\n",
    "optuna_map = pd.read_csv('data/optuna_6_features.csv')\n",
    "genetic_optuna_map = pd.read_csv('data/sub_genetic_optuna.csv')"
   ]
  },
  {
   "cell_type": "code",
   "execution_count": null,
   "id": "a8b60caa",
   "metadata": {
    "ExecuteTime": {
     "end_time": "2021-11-14T06:00:27.332079Z",
     "start_time": "2021-11-14T06:00:27.319883Z"
    }
   },
   "outputs": [],
   "source": [
    "folds = darkstore_map_genetic.copy().drop(columns=['LAGERID'])\n",
    "folds['closest_popular'] = pd.Categorical(folds['SECTION'], distances[0].argsort())\n",
    "folds['sub1'] = darkstore_map_genetic['LAGERID']\n",
    "folds['sub2'] = optuna_map['LAGERID']\n",
    "folds['sub3'] = genetic_optuna_map['LAGERID']\n",
    "\n",
    "folds = folds.sort_values('closest_popular')"
   ]
  },
  {
   "cell_type": "code",
   "execution_count": null,
   "id": "49e53827",
   "metadata": {
    "ExecuteTime": {
     "end_time": "2021-11-14T06:00:37.221160Z",
     "start_time": "2021-11-14T06:00:37.185886Z"
    }
   },
   "outputs": [],
   "source": [
    "from scipy import stats\n",
    "\n",
    "ex_mode = set()\n",
    "target = []\n",
    "for t, x in folds.iterrows():\n",
    "    mode = int(stats.mode([x['sub1'], x['sub2'], x['sub3']])[0][0])\n",
    "    if mode in ex_mode:\n",
    "        target.append(np.nan)\n",
    "    else:\n",
    "        target.append(mode)\n",
    "        ex_mode.add(mode)\n",
    "   "
   ]
  },
  {
   "cell_type": "code",
   "execution_count": null,
   "id": "999d155a",
   "metadata": {
    "ExecuteTime": {
     "end_time": "2021-11-14T06:00:41.754890Z",
     "start_time": "2021-11-14T06:00:41.749369Z"
    }
   },
   "outputs": [],
   "source": [
    "folds['predict'] = target"
   ]
  },
  {
   "cell_type": "code",
   "execution_count": null,
   "id": "7d21f955",
   "metadata": {
    "ExecuteTime": {
     "end_time": "2021-11-14T06:00:42.087529Z",
     "start_time": "2021-11-14T06:00:42.080615Z"
    }
   },
   "outputs": [],
   "source": [
    "for_gridsearch = set(folds['sub1']) - set(folds.dropna()['predict'])"
   ]
  },
  {
   "cell_type": "code",
   "execution_count": null,
   "id": "fe2cde4e",
   "metadata": {
    "ExecuteTime": {
     "end_time": "2021-11-14T06:07:42.766372Z",
     "start_time": "2021-11-14T06:05:51.812517Z"
    }
   },
   "outputs": [],
   "source": [
    "from itertools import permutations\n",
    "\n",
    "best_pair = (100, [])\n",
    "for i, pair in tn(enumerate(permutations(for_gridsearch))):\n",
    "    \n",
    "    folds['LAGERID'] = folds['predict']\n",
    "    folds.loc[folds[folds['LAGERID'].isna()==True].index, 'LAGERID'] = list(pair)\n",
    "    darkstore_map_dict = folds.set_index(['SECTION', 'LEVEL']).to_dict('index')\n",
    "    darkstore_map_dict_inverse = dict()\n",
    "    for k, v in darkstore_map_dict.items():\n",
    "        darkstore_map_dict[k] = v['LAGERID']\n",
    "        darkstore_map_dict_inverse[v['LAGERID']] = k\n",
    "    cheques['LOCATION'] = cheques['LAGERID'].apply(lambda x: darkstore_map_dict_inverse[x])\n",
    "    cheques[['SECTION', 'LEVEL']] = pd.DataFrame(cheques['LOCATION'].tolist(), index=cheques.index)\n",
    "    mean_time, _ = validator(cheques, distances)\n",
    "    if mean_time<best_pair[0]:\n",
    "        best_pair = (mean_time, pair)\n",
    "    print(mean_time)"
   ]
  }
 ],
 "metadata": {
  "kernelspec": {
   "display_name": "Python 3 (ipykernel)",
   "language": "python",
   "name": "python3"
  },
  "language_info": {
   "codemirror_mode": {
    "name": "ipython",
    "version": 3
   },
   "file_extension": ".py",
   "mimetype": "text/x-python",
   "name": "python",
   "nbconvert_exporter": "python",
   "pygments_lexer": "ipython3",
   "version": "3.9.6"
  },
  "toc": {
   "base_numbering": 1,
   "nav_menu": {},
   "number_sections": true,
   "sideBar": true,
   "skip_h1_title": false,
   "title_cell": "Table of Contents",
   "title_sidebar": "Contents",
   "toc_cell": false,
   "toc_position": {},
   "toc_section_display": true,
   "toc_window_display": false
  }
 },
 "nbformat": 4,
 "nbformat_minor": 5
}
